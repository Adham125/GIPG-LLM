{
 "cells": [
  {
   "cell_type": "code",
   "execution_count": 1,
   "id": "fd12a1a5",
   "metadata": {},
   "outputs": [],
   "source": [
    "var OpenAI = require(\"openai\");\n",
    "\n",
    "const token = process.env['API_TOKEN'];\n",
    "const openai = new OpenAI({ apiKey: token });"
   ]
  },
  {
   "cell_type": "code",
   "execution_count": 2,
   "id": "ebb25070",
   "metadata": {},
   "outputs": [
    {
     "data": {
      "text/plain": [
       "'asst_26UesAHz4uXsAanYp1IQB8hC'"
      ]
     },
     "execution_count": 2,
     "metadata": {},
     "output_type": "execute_result"
    }
   ],
   "source": [
    "assistant_id = \"asst_26UesAHz4uXsAanYp1IQB8hC\";\n",
    "const my_asst = openai.beta.assistants.retrieve(\n",
    "    assistant_id=assistant_id\n",
    ")"
   ]
  },
  {
   "cell_type": "code",
   "execution_count": 5,
   "id": "fb9759c6",
   "metadata": {},
   "outputs": [
    {
     "data": {
      "text/plain": [
       "Promise { <pending> }"
      ]
     },
     "execution_count": 5,
     "metadata": {},
     "output_type": "execute_result"
    },
    {
     "name": "stdout",
     "output_type": "stream",
     "text": [
      "thread_QSPGPVGsa6g15uqp8qPp6qoT\n"
     ]
    }
   ],
   "source": [
    "async function createThread() {\n",
    "    thread = await openai.beta.threads.create()\n",
    "    console.log(thread.id)\n",
    "}\n",
    "createThread();\n"
   ]
  },
  {
   "cell_type": "code",
   "execution_count": 6,
   "id": "fbda1d1b",
   "metadata": {},
   "outputs": [
    {
     "data": {
      "text/plain": [
       "Promise { <pending> }"
      ]
     },
     "execution_count": 6,
     "metadata": {},
     "output_type": "execute_result"
    }
   ],
   "source": [
    "async function addMessage(msg) { \n",
    "    message = await openai.beta.threads.messages.create(\n",
    "    thread.id,\n",
    "    {\n",
    "      role: \"user\",\n",
    "      content: msg\n",
    "    }\n",
    "  );\n",
    "}\n",
    "addMessage(\"Get the highest values in the heatmap for the first of january 2024 (01012024)\");"
   ]
  },
  {
   "cell_type": "code",
   "execution_count": 10,
   "id": "1a237285",
   "metadata": {},
   "outputs": [
    {
     "name": "stdout",
     "output_type": "stream",
     "text": [
      "[\n",
      "  {\n",
      "    id: 'msg_lUTttAqk9vpF5oi7ixohB3IU',\n",
      "    object: 'thread.message',\n",
      "    created_at: 1709571885,\n",
      "    assistant_id: null,\n",
      "    thread_id: 'thread_QSPGPVGsa6g15uqp8qPp6qoT',\n",
      "    run_id: null,\n",
      "    role: 'user',\n",
      "    content: [ [Object] ],\n",
      "    file_ids: [],\n",
      "    metadata: {}\n",
      "  }\n",
      "]\n",
      "[\n",
      "  {\n",
      "    type: 'text',\n",
      "    text: {\n",
      "      value: 'Get the highest values in the heatmap for the first of january 2024 (01012024)',\n",
      "      annotations: []\n",
      "    }\n",
      "  }\n",
      "]\n"
     ]
    }
   ],
   "source": [
    "async function getMessages() { \n",
    "    messages = await openai.beta.threads.messages.list(\n",
    "        thread.id\n",
    "    );\n",
    "}\n",
    "\n",
    "getMessages();\n",
    "console.log(messages.data)\n",
    "console.log(messages.data[0].content)"
   ]
  },
  {
   "cell_type": "code",
   "execution_count": 11,
   "id": "cc18bed3",
   "metadata": {},
   "outputs": [
    {
     "data": {
      "text/plain": [
       "Promise { <pending> }"
      ]
     },
     "execution_count": 11,
     "metadata": {},
     "output_type": "execute_result"
    },
    {
     "name": "stdout",
     "output_type": "stream",
     "text": [
      "{\n",
      "  id: 'run_1ICqTo7ME51AgKu2N1I7BDrk',\n",
      "  object: 'thread.run',\n",
      "  created_at: 1709571968,\n",
      "  assistant_id: 'asst_26UesAHz4uXsAanYp1IQB8hC',\n",
      "  thread_id: 'thread_QSPGPVGsa6g15uqp8qPp6qoT',\n",
      "  status: 'queued',\n",
      "  started_at: null,\n",
      "  expires_at: 1709572568,\n",
      "  cancelled_at: null,\n",
      "  failed_at: null,\n",
      "  completed_at: null,\n",
      "  required_action: null,\n",
      "  last_error: null,\n",
      "  model: 'gpt-3.5-turbo-0125',\n",
      "  instructions: 'You are an assistant who helps forest protection agencies extract information from risk heatmaps of forests.',\n",
      "  tools: [ { type: 'function', function: [Object] } ],\n",
      "  file_ids: [],\n",
      "  metadata: {},\n",
      "  usage: null\n",
      "}\n"
     ]
    }
   ],
   "source": [
    "async function runs() {\n",
    "    run = await openai.beta.threads.runs.create(\n",
    "      thread.id,\n",
    "      { assistant_id: assistant_id }\n",
    "    );\n",
    "  \n",
    "    console.log(run);\n",
    "  }\n",
    "  \n",
    "  runs();"
   ]
  },
  {
   "cell_type": "code",
   "execution_count": null,
   "id": "b365353b",
   "metadata": {},
   "outputs": [],
   "source": [
    "async function reviveRun() { \n",
    "    run = await openai.beta.threads.runs.retrieve(\n",
    "        thread.id,\n",
    "        run.id\n",
    "    );\n",
    "\n",
    "    console.log(run)\n",
    "}\n",
    "\n",
    "reviveRun();"
   ]
  },
  {
   "cell_type": "code",
   "execution_count": 12,
   "id": "26dbb587",
   "metadata": {},
   "outputs": [
    {
     "name": "stdout",
     "output_type": "stream",
     "text": [
      "[\n",
      "  {\n",
      "    id: 'msg_lUTttAqk9vpF5oi7ixohB3IU',\n",
      "    object: 'thread.message',\n",
      "    created_at: 1709571885,\n",
      "    assistant_id: null,\n",
      "    thread_id: 'thread_QSPGPVGsa6g15uqp8qPp6qoT',\n",
      "    run_id: null,\n",
      "    role: 'user',\n",
      "    content: [ [Object] ],\n",
      "    file_ids: [],\n",
      "    metadata: {}\n",
      "  }\n",
      "]\n"
     ]
    }
   ],
   "source": [
    "async function getMessages() { \n",
    "    messages = await openai.beta.threads.messages.list(\n",
    "        thread.id\n",
    "    );\n",
    "}\n",
    "\n",
    "getMessages();\n",
    "console.log(messages.data)"
   ]
  },
  {
   "cell_type": "code",
   "execution_count": 13,
   "id": "b9a90390",
   "metadata": {},
   "outputs": [
    {
     "name": "stdout",
     "output_type": "stream",
     "text": [
      "[\n",
      "  {\n",
      "    type: 'text',\n",
      "    text: {\n",
      "      value: 'Get the highest values in the heatmap for the first of january 2024 (01012024)',\n",
      "      annotations: []\n",
      "    }\n",
      "  }\n",
      "]\n"
     ]
    }
   ],
   "source": [
    "console.log(messages.data[0].content)"
   ]
  },
  {
   "cell_type": "code",
   "execution_count": 14,
   "id": "30e41023",
   "metadata": {},
   "outputs": [
    {
     "data": {
      "text/plain": [
       "Promise { <pending> }"
      ]
     },
     "execution_count": 14,
     "metadata": {},
     "output_type": "execute_result"
    },
    {
     "name": "stdout",
     "output_type": "stream",
     "text": [
      "RunStepsPage {\n",
      "  options: {\n",
      "    method: 'get',\n",
      "    path: '/threads/thread_QSPGPVGsa6g15uqp8qPp6qoT/runs/run_1ICqTo7ME51AgKu2N1I7BDrk/steps',\n",
      "    query: {},\n",
      "    headers: { 'OpenAI-Beta': 'assistants=v1' }\n",
      "  },\n",
      "  response: Response {\n",
      "    size: 0,\n",
      "    timeout: 0,\n",
      "    [Symbol(Body internals)]: { body: [Gunzip], disturbed: true, error: null },\n",
      "    [Symbol(Response internals)]: {\n",
      "      url: 'https://api.openai.com/v1/threads/thread_QSPGPVGsa6g15uqp8qPp6qoT/runs/run_1ICqTo7ME51AgKu2N1I7BDrk/steps',\n",
      "      status: 200,\n",
      "      statusText: 'OK',\n",
      "      headers: [Headers],\n",
      "      counter: 0\n",
      "    }\n",
      "  },\n",
      "  body: {\n",
      "    object: 'list',\n",
      "    data: [ [Object] ],\n",
      "    first_id: 'step_Yc0MpI34EPvrH7NpcULiFONQ',\n",
      "    last_id: 'step_Yc0MpI34EPvrH7NpcULiFONQ',\n",
      "    has_more: false\n",
      "  },\n",
      "  data: [\n",
      "    {\n",
      "      id: 'step_Yc0MpI34EPvrH7NpcULiFONQ',\n",
      "      object: 'thread.run.step',\n",
      "      created_at: 1709571968,\n",
      "      run_id: 'run_1ICqTo7ME51AgKu2N1I7BDrk',\n",
      "      assistant_id: 'asst_26UesAHz4uXsAanYp1IQB8hC',\n",
      "      thread_id: 'thread_QSPGPVGsa6g15uqp8qPp6qoT',\n",
      "      type: 'tool_calls',\n",
      "      status: 'in_progress',\n",
      "      cancelled_at: null,\n",
      "      completed_at: null,\n",
      "      expires_at: 1709572568,\n",
      "      failed_at: null,\n",
      "      last_error: null,\n",
      "      step_details: [Object],\n",
      "      usage: null\n",
      "    }\n",
      "  ]\n",
      "}\n"
     ]
    }
   ],
   "source": [
    "async function getRunSteps() {\n",
    "    runStep = await openai.beta.threads.runs.steps.list(\n",
    "      thread.id,\n",
    "      run.id\n",
    "    );\n",
    "    console.log(runStep);\n",
    "  }\n",
    "  \n",
    "  getRunSteps();"
   ]
  },
  {
   "cell_type": "code",
   "execution_count": 17,
   "id": "fdce1c2f",
   "metadata": {},
   "outputs": [
    {
     "name": "stdout",
     "output_type": "stream",
     "text": [
      "{\n",
      "  id: 'call_dUbuxZkbn6YZKA6tO4cOPGXW',\n",
      "  type: 'function',\n",
      "  function: {\n",
      "    name: 'get_high_risk_areas',\n",
      "    arguments: '{\"heatmap\":1012024,\"num\":10}',\n",
      "    output: null\n",
      "  }\n",
      "}\n"
     ]
    }
   ],
   "source": [
    "console.log(runStep.body.data[0].step_details.tool_calls[0]);"
   ]
  },
  {
   "cell_type": "code",
   "execution_count": null,
   "id": "337177d6",
   "metadata": {},
   "outputs": [],
   "source": [
    "async function getRuns() {\n",
    "    runs_list = await openai.beta.threads.runs.list(\n",
    "      thread.id\n",
    "    );\n",
    "  \n",
    "    console.log(runs_list);\n",
    "  }\n",
    "  \n",
    "  getRuns();"
   ]
  },
  {
   "cell_type": "code",
   "execution_count": null,
   "id": "6eec6de5",
   "metadata": {},
   "outputs": [],
   "source": [
    "async function cancelRun() {\n",
    "    const run_to_cancel = await openai.beta.threads.runs.cancel(\n",
    "      thread.id,\n",
    "      run.id\n",
    "    );\n",
    "  \n",
    "    console.log(run_to_cancel);\n",
    "  }\n",
    "  \n",
    "  cancelRun();"
   ]
  }
 ],
 "metadata": {
  "kernelspec": {
   "display_name": "JavaScript (Node.js)",
   "language": "javascript",
   "name": "javascript"
  },
  "language_info": {
   "file_extension": ".js",
   "mimetype": "application/javascript",
   "name": "javascript",
   "version": "20.11.1"
  }
 },
 "nbformat": 4,
 "nbformat_minor": 5
}
